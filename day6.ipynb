{
 "cells": [
  {
   "cell_type": "code",
   "execution_count": null,
   "id": "b286edb6",
   "metadata": {},
   "outputs": [],
   "source": [
    "with open(\"day6.txt\", \"r\") as f:\n",
    "    inp = f.read()"
   ]
  },
  {
   "cell_type": "code",
   "execution_count": null,
   "id": "0d64437f",
   "metadata": {},
   "outputs": [],
   "source": [
    "def find_start(inp, num_chars=4):\n",
    "    for i in range(num_chars, len(inp)):\n",
    "        if len(set(inp[i-num_chars:i])) == num_chars:\n",
    "            return i"
   ]
  },
  {
   "cell_type": "code",
   "execution_count": null,
   "id": "7c651ff4",
   "metadata": {},
   "outputs": [],
   "source": [
    "find_start(inp)"
   ]
  },
  {
   "cell_type": "code",
   "execution_count": null,
   "id": "a6cc00fa",
   "metadata": {},
   "outputs": [],
   "source": [
    "find_start(inp, num_chars=14)"
   ]
  }
 ],
 "metadata": {
  "kernelspec": {
   "display_name": "Python 3 (ipykernel)",
   "language": "python",
   "name": "python3"
  },
  "language_info": {
   "codemirror_mode": {
    "name": "ipython",
    "version": 3
   },
   "file_extension": ".py",
   "mimetype": "text/x-python",
   "name": "python",
   "nbconvert_exporter": "python",
   "pygments_lexer": "ipython3",
   "version": "3.10.8"
  }
 },
 "nbformat": 4,
 "nbformat_minor": 5
}
