{
 "cells": [
  {
   "cell_type": "code",
   "execution_count": null,
   "id": "266339a3",
   "metadata": {},
   "outputs": [],
   "source": [
    "import numpy as np\n",
    "import jupyter_black\n",
    "\n",
    "jupyter_black.load(lab=False)\n",
    "\n",
    "\n",
    "with open(\"day9.txt\", \"r\") as f:\n",
    "    data = f.read()"
   ]
  },
  {
   "cell_type": "code",
   "execution_count": null,
   "id": "388d5fcb",
   "metadata": {},
   "outputs": [],
   "source": [
    "instructions = data.split(\"\\n\")"
   ]
  },
  {
   "cell_type": "code",
   "execution_count": null,
   "id": "92456848",
   "metadata": {},
   "outputs": [],
   "source": [
    "def update_pos_t(pos_h, pos_t):\n",
    "    diff = pos_h - pos_t\n",
    "    if (np.abs(diff) > 1).any():\n",
    "        pos_t += np.sign(diff)\n",
    "        return pos_t\n",
    "    else:\n",
    "        return pos_t"
   ]
  },
  {
   "cell_type": "code",
   "execution_count": null,
   "id": "126a3d8c",
   "metadata": {},
   "outputs": [],
   "source": [
    "def get_direction(letter):\n",
    "    return {\n",
    "        \"R\": np.array([1, 0]),\n",
    "        \"L\": np.array([-1, 0]),\n",
    "        \"U\": np.array([0, 1]),\n",
    "        \"D\": np.array([0, -1]),\n",
    "    }[letter]"
   ]
  },
  {
   "cell_type": "code",
   "execution_count": null,
   "id": "4ba4de6d",
   "metadata": {},
   "outputs": [],
   "source": [
    "tail_was_here = set()\n",
    "pos_h = np.array([0, 0])\n",
    "pos_t = np.array([0, 0])\n",
    "\n",
    "for instr in instructions:\n",
    "    direction, amount = instr.split(\" \")\n",
    "    mod = get_direction(direction)\n",
    "    for _ in range(int(amount)):\n",
    "        pos_h += mod\n",
    "        pos_t = update_pos_t(pos_h, pos_t)\n",
    "        tail_was_here.add(tuple(pos_t))\n",
    "\n",
    "\n",
    "len(tail_was_here)"
   ]
  },
  {
   "cell_type": "code",
   "execution_count": null,
   "id": "5d39e87c",
   "metadata": {},
   "outputs": [],
   "source": [
    "tail_was_here = set()\n",
    "pos_h = np.array([0, 0])\n",
    "pos_tails = list(np.zeros((9, 2)))\n",
    "\n",
    "for instr in instructions:\n",
    "    direction, amount = instr.split(\" \")\n",
    "    mod = get_direction(direction)\n",
    "    for _ in range(int(amount)):\n",
    "        pos_h += mod\n",
    "        for i in range(9):\n",
    "            if i == 0:\n",
    "                pos_tails[0] = update_pos_t(pos_h, pos_tails[0])\n",
    "            else:\n",
    "                pos_tails[i] = update_pos_t(pos_tails[i - 1], pos_tails[i])\n",
    "\n",
    "        tail_was_here.add(tuple(pos_tails[-1]))\n",
    "\n",
    "\n",
    "len(tail_was_here)"
   ]
  }
 ],
 "metadata": {
  "kernelspec": {
   "display_name": "Python 3 (ipykernel)",
   "language": "python",
   "name": "python3"
  },
  "language_info": {
   "codemirror_mode": {
    "name": "ipython",
    "version": 3
   },
   "file_extension": ".py",
   "mimetype": "text/x-python",
   "name": "python",
   "nbconvert_exporter": "python",
   "pygments_lexer": "ipython3",
   "version": "3.10.8"
  }
 },
 "nbformat": 4,
 "nbformat_minor": 5
}
