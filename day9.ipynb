{
 "cells": [
  {
   "cell_type": "code",
   "execution_count": null,
   "id": "cca74121",
   "metadata": {},
   "outputs": [],
   "source": [
    "import numpy as np\n",
    "\n",
    "data = \"\"\"R 4\n",
    "U 4\n",
    "L 3\n",
    "D 1\n",
    "R 4\n",
    "D 1\n",
    "L 5\n",
    "R 2\"\"\"\n"
   ]
  },
  {
   "cell_type": "code",
   "execution_count": null,
   "id": "266339a3",
   "metadata": {},
   "outputs": [],
   "source": [
    "with open(\"day9.txt\", \"r\") as f:\n",
    "    data = f.read()"
   ]
  },
  {
   "cell_type": "code",
   "execution_count": null,
   "id": "388d5fcb",
   "metadata": {},
   "outputs": [],
   "source": [
    "instructions = data.split(\"\\n\")"
   ]
  },
  {
   "cell_type": "code",
   "execution_count": null,
   "id": "92456848",
   "metadata": {},
   "outputs": [],
   "source": [
    "def update_pos_t(pos_h, pos_t):\n",
    "    diff = pos_h - pos_t\n",
    "    if ((np.abs(diff[0]) > 1) or (np.abs(diff[1]) > 1)) :\n",
    "        pos_t += (np.sign(diff))\n",
    "        return(pos_t)\n",
    "    else:\n",
    "        return(pos_t)\n",
    "    "
   ]
  },
  {
   "cell_type": "code",
   "execution_count": null,
   "id": "126a3d8c",
   "metadata": {},
   "outputs": [],
   "source": [
    "def get_direction(letter):\n",
    "    return {\n",
    "        \"R\": np.array([1, 0]),\n",
    "        \"L\": np.array([-1, 0]), \n",
    "        \"U\": np.array([0, 1]), \n",
    "        \"D\": np.array([0, -1]), \n",
    "    }[letter]\n"
   ]
  },
  {
   "cell_type": "code",
   "execution_count": null,
   "id": "4ba4de6d",
   "metadata": {},
   "outputs": [],
   "source": [
    "tail_was_here = dict()\n",
    "pos_h = np.array([0, 0])\n",
    "pos_t = np.array([0, 0])\n",
    "\n",
    "for instr in instructions:\n",
    "    direction, amount = instr.split(\" \")\n",
    "    mod = get_direction(direction)\n",
    "    for _ in range(int(amount)):\n",
    "        pos_h += mod\n",
    "        pos_t = update_pos_t(pos_h, pos_t)\n",
    "        tail_was_here[tuple(pos_t)] = True\n",
    "        \n",
    "        \n",
    "len(tail_was_here)\n",
    "    "
   ]
  },
  {
   "cell_type": "code",
   "execution_count": null,
   "id": "5d39e87c",
   "metadata": {},
   "outputs": [],
   "source": [
    "rope_was_here = dict()\n",
    "pos_h = np.array([0, 0])\n",
    "pos_tails = list(np.zeros((9, 2)))\n",
    "\n",
    "for instr in instructions:\n",
    "    direction, amount = instr.split(\" \")\n",
    "    mod = get_direction(direction)\n",
    "    for _ in range(int(amount)):\n",
    "        pos_h += mod\n",
    "        for i in range(9):\n",
    "            if i == 0:\n",
    "                pos_tails[0] = update_pos_t(pos_h, pos_tails[0])\n",
    "            else:\n",
    "                pos_tails[i] = update_pos_t(pos_tails[i-1], pos_tails[i])\n",
    "                \n",
    "                \n",
    "        rope_was_here[tuple(pos_tails[-1])] = True\n",
    "        \n",
    "len(rope_was_here)\n",
    "    "
   ]
  },
  {
   "cell_type": "code",
   "execution_count": null,
   "id": "c2e68764",
   "metadata": {},
   "outputs": [],
   "source": [
    "rope_was_here"
   ]
  },
  {
   "cell_type": "code",
   "execution_count": null,
   "id": "2d848cd6",
   "metadata": {},
   "outputs": [],
   "source": []
  }
 ],
 "metadata": {
  "kernelspec": {
   "display_name": "Python 3 (ipykernel)",
   "language": "python",
   "name": "python3"
  },
  "language_info": {
   "codemirror_mode": {
    "name": "ipython",
    "version": 3
   },
   "file_extension": ".py",
   "mimetype": "text/x-python",
   "name": "python",
   "nbconvert_exporter": "python",
   "pygments_lexer": "ipython3",
   "version": "3.10.8"
  }
 },
 "nbformat": 4,
 "nbformat_minor": 5
}
