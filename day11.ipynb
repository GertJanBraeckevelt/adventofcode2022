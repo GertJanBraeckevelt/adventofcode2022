{
 "cells": [
  {
   "cell_type": "code",
   "execution_count": null,
   "id": "876f729a",
   "metadata": {},
   "outputs": [],
   "source": [
    "import math\n",
    "from tqdm import trange\n",
    "from typing import List\n",
    "import jupyter_black \n",
    "jupyter_black.load(lab=False)"
   ]
  },
  {
   "cell_type": "code",
   "execution_count": null,
   "id": "11fc710e",
   "metadata": {},
   "outputs": [],
   "source": [
    "with open(\"day11.txt\", \"r\") as f:\n",
    "    data = f.read()"
   ]
  },
  {
   "cell_type": "code",
   "execution_count": null,
   "id": "5e967e3d",
   "metadata": {},
   "outputs": [],
   "source": [
    "class Monkey:\n",
    "    def __init__(\n",
    "        self,\n",
    "        operation: str,\n",
    "        test: int,\n",
    "        case_true: int,\n",
    "        case_false: int,\n",
    "        starting_items: List[int],\n",
    "    ):\n",
    "        self.starting_items = starting_items\n",
    "        self.operation = operation\n",
    "        self.test = test\n",
    "        self.case_true = case_true\n",
    "        self.case_false = case_false\n",
    "        self.num_inspections = 0\n",
    "        self.mod = None\n",
    "\n",
    "    def set_mod(self, mod):\n",
    "        self.mod = mod\n",
    "\n",
    "    def normalize(self, item):\n",
    "        if self.mod:\n",
    "            item = item % self.mod\n",
    "        else:\n",
    "            item = math.floor(item / 3)\n",
    "\n",
    "        return item\n",
    "\n",
    "    def inspect_item(self):\n",
    "        self.num_inspections += 1\n",
    "        old = self.starting_items.pop(0)\n",
    "        item = eval(self.operation) # Lord forgive me for using eval\n",
    "        item = self.normalize(item)\n",
    "\n",
    "        monkey_to_pass_to = self.case_true if item % self.test == 0 else self.case_false\n",
    "        return (item, monkey_to_pass_to)\n",
    "\n",
    "\n",
    "def parse_monkey(monkey):\n",
    "    lines = monkey.split(\"\\n\")\n",
    "    return Monkey(\n",
    "        operation=lines[2][19:],\n",
    "        test=int(lines[3].split(\" \")[-1]),\n",
    "        case_true=int(lines[4].split(\" \")[-1]),\n",
    "        case_false=int(lines[5].split(\" \")[-1]),\n",
    "        starting_items=[int(level.strip(\",\")) for level in lines[1].split(\" \")[4:]],\n",
    "    )\n",
    "\n",
    "\n",
    "def do_round(monkeys):\n",
    "\n",
    "    for monkey in monkeys:\n",
    "        for _ in range(len(monkey.starting_items)):\n",
    "            item, target_idx = monkey.inspect_item()\n",
    "\n",
    "            monkeys[target_idx].starting_items.append(item)\n",
    "    return monkeys"
   ]
  },
  {
   "cell_type": "code",
   "execution_count": null,
   "id": "485d02b8",
   "metadata": {},
   "outputs": [],
   "source": [
    "monkeys = data.split(\"\\n\\n\")\n",
    "monkeys = [parse_monkey(monkey) for monkey in monkeys]\n",
    "\n",
    "for i in range(20):\n",
    "    monkeys = do_round(monkeys)\n",
    "\n",
    "insp = [monkey.num_inspections for monkey in monkeys]\n",
    "math.prod(sorted(insp)[-2:])"
   ]
  },
  {
   "cell_type": "code",
   "execution_count": null,
   "id": "1bf34956",
   "metadata": {},
   "outputs": [],
   "source": [
    "monkeys = data.split(\"\\n\\n\")\n",
    "monkeys = [parse_monkey(monkey) for monkey in monkeys]\n",
    "big_mod = math.prod([monkey.test for monkey in monkeys])\n",
    "for monkey in monkeys:\n",
    "    monkey.set_mod(big_mod)\n",
    "\n",
    "for i in trange(10000):\n",
    "    monkeys = do_round(monkeys)\n",
    "\n",
    "insp = [monkey.num_inspections for monkey in monkeys]\n",
    "math.prod(sorted(insp)[-2:])"
   ]
  }
 ],
 "metadata": {
  "kernelspec": {
   "display_name": "Python 3 (ipykernel)",
   "language": "python",
   "name": "python3"
  },
  "language_info": {
   "codemirror_mode": {
    "name": "ipython",
    "version": 3
   },
   "file_extension": ".py",
   "mimetype": "text/x-python",
   "name": "python",
   "nbconvert_exporter": "python",
   "pygments_lexer": "ipython3",
   "version": "3.10.8"
  }
 },
 "nbformat": 4,
 "nbformat_minor": 5
}
