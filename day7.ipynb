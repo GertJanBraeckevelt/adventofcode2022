{
 "cells": [
  {
   "cell_type": "code",
   "execution_count": null,
   "id": "1f901470",
   "metadata": {},
   "outputs": [],
   "source": [
    "import jupyter_black\n",
    "jupyter_black.load(lab=False)"
   ]
  },
  {
   "cell_type": "code",
   "execution_count": null,
   "id": "12ca680c",
   "metadata": {},
   "outputs": [],
   "source": [
    "with open(\"day7.txt\", \"r\") as f:\n",
    "    data = f.read()"
   ]
  },
  {
   "cell_type": "code",
   "execution_count": null,
   "id": "fdaa97b4",
   "metadata": {},
   "outputs": [],
   "source": [
    "def get_folder(file_structure, path):\n",
    "    path = path.strip(\"/\")\n",
    "    if path == \"\":\n",
    "        return file_structure\n",
    "    else:\n",
    "        splitted = path.split(\"/\")\n",
    "        top = splitted.pop(0)\n",
    "        path = \"/\".join(splitted)\n",
    "        return get_folder(file_structure[top], path)\n",
    "\n",
    "\n",
    "def update_current_dir(target_dir, current_dir):\n",
    "    if target_dir == \"..\":\n",
    "        return \"/\".join(current_dir.split(\"/\")[:-2]) + \"/\"\n",
    "    return current_dir + target_dir + \"/\"\n",
    "\n",
    "\n",
    "def update_filestructure(filestructure, ls_result, current_dir):\n",
    "    filestructure = filestructure.copy()\n",
    "    if ls_result.startswith(\"dir\"):\n",
    "        _, directory = ls_result.split(\" \")\n",
    "        get_folder(filestructure, current_dir)[directory] = dict()\n",
    "    else:\n",
    "        size, name = ls_result.split(\" \")\n",
    "        get_folder(filestructure, current_dir)[name] = int(size)\n",
    "    return filestructure\n",
    "\n",
    "\n",
    "def map_out_file_system(commands):\n",
    "\n",
    "    current_dir = \"root/\"\n",
    "    keywords = [\"cd\", \"ls\"]\n",
    "    file_structure = {\"root\": dict()}\n",
    "\n",
    "    for command in commands:\n",
    "        command = command.strip()\n",
    "        if command.startswith(\"cd\"):\n",
    "            _, target_dir = command.split(\" \")\n",
    "            current_dir = update_current_dir(target_dir, current_dir)\n",
    "        elif command.startswith(\"ls\"):\n",
    "            for ls_result in command.split(\"\\n\")[1:]:\n",
    "                file_structure = update_filestructure(\n",
    "                    file_structure, ls_result, current_dir\n",
    "                )\n",
    "\n",
    "    return file_structure\n",
    "\n",
    "\n",
    "def get_filesizes(file_structure):\n",
    "    file_sizes = dict()\n",
    "\n",
    "    def add_sizes(folder, top_folders):\n",
    "        for key, val in folder.items():\n",
    "            if type(val) is dict:\n",
    "                if len(top_folders) > 0:\n",
    "                    key = top_folders[-1] + \"/\" + key\n",
    "                add_sizes(val, top_folders + [key])\n",
    "            elif type(val) == int:\n",
    "                for fol in top_folders:\n",
    "                    file_sizes[fol] = file_sizes.get(fol, 0) + val\n",
    "\n",
    "    add_sizes(file_structure, [])\n",
    "    return file_sizes"
   ]
  },
  {
   "cell_type": "code",
   "execution_count": null,
   "id": "11bd13f3",
   "metadata": {},
   "outputs": [],
   "source": [
    "fs = map_out_file_system(data.split(\"$\")[2:])\n",
    "\n",
    "file_sizes = get_filesizes(fs)\n",
    "sum([size for _, size in file_sizes.items() if size <= 100000])"
   ]
  },
  {
   "cell_type": "code",
   "execution_count": null,
   "id": "4e9088e3",
   "metadata": {},
   "outputs": [],
   "source": [
    "free_space = 70000000 - file_sizes[\"root\"]\n",
    "size_needed = 30000000 - free_space\n",
    "min([size for _, size in file_sizes.items() if size > size_needed])"
   ]
  },
  {
   "cell_type": "code",
   "execution_count": null,
   "id": "522fa30b",
   "metadata": {},
   "outputs": [],
   "source": []
  }
 ],
 "metadata": {
  "kernelspec": {
   "display_name": "Python 3 (ipykernel)",
   "language": "python",
   "name": "python3"
  },
  "language_info": {
   "codemirror_mode": {
    "name": "ipython",
    "version": 3
   },
   "file_extension": ".py",
   "mimetype": "text/x-python",
   "name": "python",
   "nbconvert_exporter": "python",
   "pygments_lexer": "ipython3",
   "version": "3.10.8"
  }
 },
 "nbformat": 4,
 "nbformat_minor": 5
}
