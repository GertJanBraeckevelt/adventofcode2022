{
 "cells": [
  {
   "cell_type": "code",
   "execution_count": null,
   "id": "89cc6a13",
   "metadata": {},
   "outputs": [],
   "source": [
    "import numpy as np\n",
    "from aocd import get_data\n",
    "import jupyter_black\n",
    "\n",
    "jupyter_black.load(lab=False)\n"
   ]
  },
  {
   "cell_type": "code",
   "execution_count": null,
   "id": "2be902c0",
   "metadata": {},
   "outputs": [],
   "source": [
    "data = get_data(year=2022, day=4)"
   ]
  },
  {
   "cell_type": "code",
   "execution_count": null,
   "id": "3c33d82c",
   "metadata": {},
   "outputs": [],
   "source": [
    "def get_range_limits(data):\n",
    "    return [\n",
    "        [[int(elf.split(\"-\")[0]), int(elf.split(\"-\")[1])] for elf in line.split(\",\")]\n",
    "        for line in data.split(\"\\n\")\n",
    "    ]\n",
    "\n",
    "\n",
    "def convert_to_ranges(data):\n",
    "    return [[list(range(r[0], r[1] + 1)) for r in line] for line in data]\n",
    "\n",
    "\n",
    "def lists_fully_overlaps(list_a, list_b):\n",
    "    overlap = set(list_a).intersection(list_b)\n",
    "    return len(overlap) == min(len(list_a), len(list_b))\n",
    "\n",
    "\n",
    "def lists_overlap(list_a, list_b):\n",
    "    overlap = set(list_a).intersection(list_b)\n",
    "    return len(overlap) > 0"
   ]
  },
  {
   "cell_type": "code",
   "execution_count": null,
   "id": "75a0a1c7",
   "metadata": {},
   "outputs": [],
   "source": [
    "sum(\n",
    "    np.array(\n",
    "        [\n",
    "            lists_fully_overlaps(line[0], line[1])\n",
    "            for line in convert_to_ranges(get_range_limits(data))\n",
    "        ]\n",
    "    )\n",
    ")"
   ]
  },
  {
   "cell_type": "code",
   "execution_count": null,
   "id": "15f70470",
   "metadata": {},
   "outputs": [],
   "source": [
    "sum(\n",
    "    np.array(\n",
    "        [\n",
    "            lists_overlap(line[0], line[1])\n",
    "            for line in convert_to_ranges(get_range_limits(data))\n",
    "        ]\n",
    "    )\n",
    ")"
   ]
  }
 ],
 "metadata": {
  "kernelspec": {
   "display_name": "Python 3 (ipykernel)",
   "language": "python",
   "name": "python3"
  },
  "language_info": {
   "codemirror_mode": {
    "name": "ipython",
    "version": 3
   },
   "file_extension": ".py",
   "mimetype": "text/x-python",
   "name": "python",
   "nbconvert_exporter": "python",
   "pygments_lexer": "ipython3",
   "version": "3.10.8"
  }
 },
 "nbformat": 4,
 "nbformat_minor": 5
}
