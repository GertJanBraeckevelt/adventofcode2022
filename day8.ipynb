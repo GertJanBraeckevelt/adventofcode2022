{
 "cells": [
  {
   "cell_type": "code",
   "execution_count": null,
   "id": "9edc7ddd",
   "metadata": {},
   "outputs": [],
   "source": [
    "import numpy as np\n",
    "import jupyter_black\n",
    "\n",
    "jupyter_black.load(lab=False)"
   ]
  },
  {
   "cell_type": "code",
   "execution_count": null,
   "id": "1da71d9c",
   "metadata": {},
   "outputs": [],
   "source": [
    "with open(\"day8.txt\", \"r\") as f:\n",
    "    data = f.read()"
   ]
  },
  {
   "cell_type": "code",
   "execution_count": null,
   "id": "2b9c01f3",
   "metadata": {},
   "outputs": [],
   "source": [
    "forest = np.array([[int(tree) for tree in line] for line in data.split(\"\\n\")])"
   ]
  },
  {
   "cell_type": "code",
   "execution_count": null,
   "id": "c01929a3",
   "metadata": {},
   "outputs": [],
   "source": [
    "def get_trees_between_point_and_border(x, y, forest):\n",
    "\n",
    "    return {\n",
    "        \"top\": forest[y + np.arange(-y, 0, 1), x][::-1],\n",
    "        \"bottom\": forest[y + np.arange(1, forest.shape[0] - y, 1), x],\n",
    "        \"left\": forest[y, x + np.arange(-x, 0, 1)][::-1],\n",
    "        \"right\": forest[y, x + np.arange(1, forest.shape[0] - x, 1)],\n",
    "    }"
   ]
  },
  {
   "cell_type": "code",
   "execution_count": null,
   "id": "0bcd0909",
   "metadata": {},
   "outputs": [],
   "source": [
    "def is_visible(trees_visible):\n",
    "    vis_from_top = np.max(trees_visible[\"top\"]) < forest[y, x]\n",
    "    vis_from_bottom = np.max(trees_visible[\"bottom\"]) < forest[y, x]\n",
    "    vis_from_left = np.max(trees_visible[\"left\"]) < forest[y, x]\n",
    "    vis_from_right = np.max(trees_visible[\"right\"]) < forest[y, x]\n",
    "    return vis_from_bottom or vis_from_left or vis_from_right or vis_from_top"
   ]
  },
  {
   "cell_type": "code",
   "execution_count": null,
   "id": "61bb22c5",
   "metadata": {},
   "outputs": [],
   "source": [
    "number_of_trees_on_edge = 4 * forest.shape[0] - 4\n",
    "\n",
    "counter = number_of_trees_on_edge\n",
    "grid = np.zeros_like(forest, bool)\n",
    "\n",
    "for y in range(1, forest.shape[0] - 1):\n",
    "    for x in range(1, forest.shape[1] - 1):\n",
    "        trees_visible = get_trees_between_point_and_border(x, y, forest)\n",
    "        grid[x, y] = is_visible(trees_visible)"
   ]
  },
  {
   "cell_type": "code",
   "execution_count": null,
   "id": "59b9352c",
   "metadata": {},
   "outputs": [],
   "source": [
    "counter + grid.sum()"
   ]
  },
  {
   "cell_type": "code",
   "execution_count": null,
   "id": "7cef85cf",
   "metadata": {},
   "outputs": [],
   "source": [
    "def get_score_in_direction(candidate_size, neighbour_sizes):\n",
    "    tree_max = candidate_size\n",
    "    score = 0\n",
    "    for size in neighbour_sizes:\n",
    "        score += 1\n",
    "        if size >= candidate_size:\n",
    "            return score\n",
    "    return score\n",
    "\n",
    "\n",
    "def get_total_score(candidate_size, trees_visible):\n",
    "    return (\n",
    "        get_score_in_direction(candidate_size, trees_visible[\"top\"])\n",
    "        * get_score_in_direction(candidate_size, trees_visible[\"bottom\"])\n",
    "        * get_score_in_direction(candidate_size, trees_visible[\"left\"])\n",
    "        * get_score_in_direction(candidate_size, trees_visible[\"right\"])\n",
    "    )"
   ]
  },
  {
   "cell_type": "code",
   "execution_count": null,
   "id": "1b31377c",
   "metadata": {},
   "outputs": [],
   "source": [
    "grid = np.zeros_like(forest, int)\n",
    "\n",
    "for y in range(1, forest.shape[0] - 1):\n",
    "    for x in range(1, forest.shape[1] - 1):\n",
    "        trees_visible = get_trees_between_point_and_border(x, y, forest)\n",
    "        grid[y, x] = get_total_score(forest[y, x], trees_visible)\n",
    "\n",
    "print(grid.max())"
   ]
  }
 ],
 "metadata": {
  "kernelspec": {
   "display_name": "Python 3 (ipykernel)",
   "language": "python",
   "name": "python3"
  },
  "language_info": {
   "codemirror_mode": {
    "name": "ipython",
    "version": 3
   },
   "file_extension": ".py",
   "mimetype": "text/x-python",
   "name": "python",
   "nbconvert_exporter": "python",
   "pygments_lexer": "ipython3",
   "version": "3.10.8"
  }
 },
 "nbformat": 4,
 "nbformat_minor": 5
}
