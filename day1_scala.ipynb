{
 "cells": [
  {
   "cell_type": "code",
   "execution_count": null,
   "id": "5febde29",
   "metadata": {},
   "outputs": [],
   "source": [
    "import scala.io.Source\n",
    "\n",
    "val fileName = \"day1.txt\""
   ]
  },
  {
   "cell_type": "code",
   "execution_count": null,
   "id": "1fd00073",
   "metadata": {},
   "outputs": [],
   "source": [
    "def readAndParseFile(fileName: String): Array[Array[Int]] = {\n",
    "    Source\n",
    "      .fromFile(fileName)\n",
    "      .mkString\n",
    "      .split(\"\\n\\n\")\n",
    "      .map(calorieList => calorieList.split(\"\\n\").map(cal => cal.toInt))\n",
    "}"
   ]
  },
  {
   "cell_type": "code",
   "execution_count": null,
   "id": "8857f6d0",
   "metadata": {},
   "outputs": [],
   "source": [
    "val caloriesPerElf = readAndParseFile(fileName)\n",
    "val totalPerElf = caloriesPerElf.map(list => list.sum)"
   ]
  },
  {
   "cell_type": "code",
   "execution_count": null,
   "id": "40d32477",
   "metadata": {},
   "outputs": [],
   "source": [
    "totalPerElf.sorted.last"
   ]
  },
  {
   "cell_type": "code",
   "execution_count": null,
   "id": "9c67f530",
   "metadata": {},
   "outputs": [],
   "source": [
    "totalPerElf.sorted.takeRight(3).sum"
   ]
  },
  {
   "cell_type": "code",
   "execution_count": null,
   "id": "d7a46fd9",
   "metadata": {},
   "outputs": [],
   "source": []
  }
 ],
 "metadata": {
  "kernelspec": {
   "display_name": "Scala",
   "language": "scala",
   "name": "scala"
  },
  "language_info": {
   "codemirror_mode": "text/x-scala",
   "file_extension": ".sc",
   "mimetype": "text/x-scala",
   "name": "scala",
   "nbconvert_exporter": "script",
   "version": "2.13.10"
  }
 },
 "nbformat": 4,
 "nbformat_minor": 5
}
