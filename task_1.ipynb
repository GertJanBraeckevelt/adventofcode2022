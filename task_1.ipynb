{
 "cells": [
  {
   "cell_type": "code",
   "execution_count": null,
   "id": "c0070e6e",
   "metadata": {},
   "outputs": [],
   "source": [
    "import jupyter_black\n",
    "import numpy as np\n",
    "from aocd import get_data\n",
    "\n",
    "jupyter_black.load(lab=False)"
   ]
  },
  {
   "cell_type": "code",
   "execution_count": null,
   "id": "ebc0848f",
   "metadata": {},
   "outputs": [],
   "source": [
    "def get_and_parse_data():\n",
    "    contents = get_data(year=2022, day=1)\n",
    "\n",
    "    return [\n",
    "        [int(calorie) for calorie in elf.split(\"\\n\")] for elf in contents.split(\"\\n\\n\")\n",
    "    ]"
   ]
  },
  {
   "cell_type": "code",
   "execution_count": null,
   "id": "23bf82d8",
   "metadata": {},
   "outputs": [],
   "source": [
    "calories_per_elf = get_and_parse_data()\n",
    "elf_total_calories = [sum(calories) for calories in calories_per_elf]"
   ]
  },
  {
   "cell_type": "code",
   "execution_count": null,
   "id": "83b4468e",
   "metadata": {},
   "outputs": [],
   "source": [
    "print(max(elf_total_calories))"
   ]
  },
  {
   "cell_type": "code",
   "execution_count": null,
   "id": "55a10b83",
   "metadata": {},
   "outputs": [],
   "source": [
    "print(sum(np.sort(elf_total_calories)[-3:]))"
   ]
  }
 ],
 "metadata": {
  "kernelspec": {
   "display_name": "Python 3 (ipykernel)",
   "language": "python",
   "name": "python3"
  },
  "language_info": {
   "codemirror_mode": {
    "name": "ipython",
    "version": 3
   },
   "file_extension": ".py",
   "mimetype": "text/x-python",
   "name": "python",
   "nbconvert_exporter": "python",
   "pygments_lexer": "ipython3",
   "version": "3.10.8"
  }
 },
 "nbformat": 4,
 "nbformat_minor": 5
}
