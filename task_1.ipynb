{
 "cells": [
  {
   "cell_type": "code",
   "execution_count": 2,
   "id": "c0070e6e",
   "metadata": {},
   "outputs": [
    {
     "data": {
      "text/html": [
       "\n",
       "                <script type=\"application/javascript\" id=\"jupyter_black\">\n",
       "                (function() {\n",
       "                    if (window.IPython === undefined) {\n",
       "                        return\n",
       "                    }\n",
       "                    var msg = \"WARNING: it looks like you might have loaded \" +\n",
       "                        \"jupyter_black in a non-lab notebook with \" +\n",
       "                        \"`is_lab=True`. Please double check, and if \" +\n",
       "                        \"loading with `%load_ext` please review the README!\"\n",
       "                    console.log(msg)\n",
       "                    alert(msg)\n",
       "                })()\n",
       "                </script>\n",
       "                "
      ],
      "text/plain": [
       "<IPython.core.display.HTML object>"
      ]
     },
     "metadata": {},
     "output_type": "display_data"
    }
   ],
   "source": [
    "%load_ext jupyter_black"
   ]
  },
  {
   "cell_type": "code",
   "execution_count": 3,
   "id": "ebc0848f",
   "metadata": {},
   "outputs": [],
   "source": [
    "import numpy as np\n",
    "from aocd import get_data\n",
    "\n",
    "\n",
    "def get_and_parse_data():\n",
    "    contents = get_data(year=2022, day=1)\n",
    "\n",
    "    return [\n",
    "        [int(calorie) for calorie in elf.split(\"\\n\")] for elf in contents.split(\"\\n\\n\")\n",
    "    ]"
   ]
  },
  {
   "cell_type": "code",
   "execution_count": 8,
   "id": "23bf82d8",
   "metadata": {},
   "outputs": [
    {
     "name": "stderr",
     "output_type": "stream",
     "text": [
      "ERROR: AoC session ID is needed to get your puzzle data!\n",
      "You can find it in your browser cookies after login.\n",
      "    1) Save the cookie into a text file /Users/gertjanbr/.config/aocd/token, or\n",
      "    2) Export the cookie in environment variable AOC_SESSION\n",
      "\n",
      "See https://github.com/wimglenn/advent-of-code-wim/issues/1 for more info.\n",
      "\n"
     ]
    },
    {
     "ename": "AocdError",
     "evalue": "Missing session ID",
     "output_type": "error",
     "traceback": [
      "\u001b[0;31m---------------------------------------------------------------------------\u001b[0m",
      "\u001b[0;31mAocdError\u001b[0m                                 Traceback (most recent call last)",
      "Cell \u001b[0;32mIn[8], line 1\u001b[0m\n\u001b[0;32m----> 1\u001b[0m calories_per_elf \u001b[38;5;241m=\u001b[39m \u001b[43mget_and_parse_data\u001b[49m\u001b[43m(\u001b[49m\u001b[43m)\u001b[49m\n\u001b[1;32m      2\u001b[0m elf_total_calories \u001b[38;5;241m=\u001b[39m [\u001b[38;5;28msum\u001b[39m(calories) \u001b[38;5;28;01mfor\u001b[39;00m calories \u001b[38;5;129;01min\u001b[39;00m calories_per_elf]\n",
      "Cell \u001b[0;32mIn[3], line 6\u001b[0m, in \u001b[0;36mget_and_parse_data\u001b[0;34m()\u001b[0m\n\u001b[1;32m      5\u001b[0m \u001b[38;5;28;01mdef\u001b[39;00m \u001b[38;5;21mget_and_parse_data\u001b[39m():\n\u001b[0;32m----> 6\u001b[0m     contents \u001b[38;5;241m=\u001b[39m \u001b[43mget_data\u001b[49m\u001b[43m(\u001b[49m\u001b[43myear\u001b[49m\u001b[38;5;241;43m=\u001b[39;49m\u001b[38;5;241;43m2022\u001b[39;49m\u001b[43m,\u001b[49m\u001b[43m \u001b[49m\u001b[43mday\u001b[49m\u001b[38;5;241;43m=\u001b[39;49m\u001b[38;5;241;43m1\u001b[39;49m\u001b[43m)\u001b[49m\n\u001b[1;32m      8\u001b[0m     \u001b[38;5;28;01mreturn\u001b[39;00m [\n\u001b[1;32m      9\u001b[0m         [\u001b[38;5;28mint\u001b[39m(calorie) \u001b[38;5;28;01mfor\u001b[39;00m calorie \u001b[38;5;129;01min\u001b[39;00m elf\u001b[38;5;241m.\u001b[39msplit(\u001b[38;5;124m\"\u001b[39m\u001b[38;5;130;01m\\n\u001b[39;00m\u001b[38;5;124m\"\u001b[39m)] \u001b[38;5;28;01mfor\u001b[39;00m elf \u001b[38;5;129;01min\u001b[39;00m contents\u001b[38;5;241m.\u001b[39msplit(\u001b[38;5;124m\"\u001b[39m\u001b[38;5;130;01m\\n\u001b[39;00m\u001b[38;5;130;01m\\n\u001b[39;00m\u001b[38;5;124m\"\u001b[39m)\n\u001b[1;32m     10\u001b[0m     ]\n",
      "File \u001b[0;32m~/Library/Caches/pypoetry/virtualenvs/adventofcode2022-7lMjBm20-py3.10/lib/python3.10/site-packages/aocd/get.py:31\u001b[0m, in \u001b[0;36mget_data\u001b[0;34m(session, day, year, block)\u001b[0m\n\u001b[1;32m     26\u001b[0m \u001b[38;5;124;03m\"\"\"\u001b[39;00m\n\u001b[1;32m     27\u001b[0m \u001b[38;5;124;03mGet data for day (1-25) and year (>= 2015)\u001b[39;00m\n\u001b[1;32m     28\u001b[0m \u001b[38;5;124;03mUser's session cookie is needed (puzzle inputs differ by user)\u001b[39;00m\n\u001b[1;32m     29\u001b[0m \u001b[38;5;124;03m\"\"\"\u001b[39;00m\n\u001b[1;32m     30\u001b[0m \u001b[38;5;28;01mif\u001b[39;00m session \u001b[38;5;129;01mis\u001b[39;00m \u001b[38;5;28;01mNone\u001b[39;00m:\n\u001b[0;32m---> 31\u001b[0m     user \u001b[38;5;241m=\u001b[39m \u001b[43mdefault_user\u001b[49m\u001b[43m(\u001b[49m\u001b[43m)\u001b[49m\n\u001b[1;32m     32\u001b[0m \u001b[38;5;28;01melse\u001b[39;00m:\n\u001b[1;32m     33\u001b[0m     user \u001b[38;5;241m=\u001b[39m User(token\u001b[38;5;241m=\u001b[39msession)\n",
      "File \u001b[0;32m~/Library/Caches/pypoetry/virtualenvs/adventofcode2022-7lMjBm20-py3.10/lib/python3.10/site-packages/aocd/models.py:167\u001b[0m, in \u001b[0;36mdefault_user\u001b[0;34m()\u001b[0m\n\u001b[1;32m    156\u001b[0m msg \u001b[38;5;241m=\u001b[39m dedent(\n\u001b[1;32m    157\u001b[0m     \u001b[38;5;124;03m\"\"\"\\\u001b[39;00m\n\u001b[1;32m    158\u001b[0m \u001b[38;5;124;03m    ERROR: AoC session ID is needed to get your puzzle data!\u001b[39;00m\n\u001b[0;32m   (...)\u001b[0m\n\u001b[1;32m    164\u001b[0m \u001b[38;5;124;03m    \"\"\"\u001b[39;00m\n\u001b[1;32m    165\u001b[0m )\n\u001b[1;32m    166\u001b[0m cprint(msg\u001b[38;5;241m.\u001b[39mformat(os\u001b[38;5;241m.\u001b[39mpath\u001b[38;5;241m.\u001b[39mjoin(AOCD_CONFIG_DIR, \u001b[38;5;124m\"\u001b[39m\u001b[38;5;124mtoken\u001b[39m\u001b[38;5;124m\"\u001b[39m)), color\u001b[38;5;241m=\u001b[39m\u001b[38;5;124m\"\u001b[39m\u001b[38;5;124mred\u001b[39m\u001b[38;5;124m\"\u001b[39m, file\u001b[38;5;241m=\u001b[39msys\u001b[38;5;241m.\u001b[39mstderr)\n\u001b[0;32m--> 167\u001b[0m \u001b[38;5;28;01mraise\u001b[39;00m AocdError(\u001b[38;5;124m\"\u001b[39m\u001b[38;5;124mMissing session ID\u001b[39m\u001b[38;5;124m\"\u001b[39m)\n",
      "\u001b[0;31mAocdError\u001b[0m: Missing session ID"
     ]
    }
   ],
   "source": [
    "calories_per_elf = get_and_parse_data()\n",
    "elf_total_calories = [sum(calories) for calories in calories_per_elf]"
   ]
  },
  {
   "cell_type": "code",
   "execution_count": 6,
   "id": "83b4468e",
   "metadata": {},
   "outputs": [
    {
     "ename": "NameError",
     "evalue": "name 'elf_total_calories' is not defined",
     "output_type": "error",
     "traceback": [
      "\u001b[0;31m---------------------------------------------------------------------------\u001b[0m",
      "\u001b[0;31mNameError\u001b[0m                                 Traceback (most recent call last)",
      "Cell \u001b[0;32mIn[6], line 1\u001b[0m\n\u001b[0;32m----> 1\u001b[0m \u001b[38;5;28mprint\u001b[39m(\u001b[38;5;28mmax\u001b[39m(\u001b[43melf_total_calories\u001b[49m))\n",
      "\u001b[0;31mNameError\u001b[0m: name 'elf_total_calories' is not defined"
     ]
    }
   ],
   "source": [
    "print(max(elf_total_calories))"
   ]
  },
  {
   "cell_type": "code",
   "execution_count": 5,
   "id": "55a10b83",
   "metadata": {},
   "outputs": [
    {
     "name": "stdout",
     "output_type": "stream",
     "text": [
      "213159\n"
     ]
    }
   ],
   "source": [
    "print(sum(np.sort(elf_total_calories)[-3:]))"
   ]
  }
 ],
 "metadata": {
  "kernelspec": {
   "display_name": "Python 3 (ipykernel)",
   "language": "python",
   "name": "python3"
  },
  "language_info": {
   "codemirror_mode": {
    "name": "ipython",
    "version": 3
   },
   "file_extension": ".py",
   "mimetype": "text/x-python",
   "name": "python",
   "nbconvert_exporter": "python",
   "pygments_lexer": "ipython3",
   "version": "3.10.8"
  }
 },
 "nbformat": 4,
 "nbformat_minor": 5
}
