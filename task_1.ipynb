{
 "cells": [
  {
   "cell_type": "code",
   "execution_count": 1,
   "id": "c0070e6e",
   "metadata": {},
   "outputs": [
    {
     "data": {
      "text/html": [
       "\n",
       "                <script type=\"application/javascript\" id=\"jupyter_black\">\n",
       "                (function() {\n",
       "                    if (window.IPython === undefined) {\n",
       "                        return\n",
       "                    }\n",
       "                    var msg = \"WARNING: it looks like you might have loaded \" +\n",
       "                        \"jupyter_black in a non-lab notebook with \" +\n",
       "                        \"`is_lab=True`. Please double check, and if \" +\n",
       "                        \"loading with `%load_ext` please review the README!\"\n",
       "                    console.log(msg)\n",
       "                    alert(msg)\n",
       "                })()\n",
       "                </script>\n",
       "                "
      ],
      "text/plain": [
       "<IPython.core.display.HTML object>"
      ]
     },
     "metadata": {},
     "output_type": "display_data"
    }
   ],
   "source": [
    "%load_ext jupyter_black"
   ]
  },
  {
   "cell_type": "code",
   "execution_count": 2,
   "id": "ebc0848f",
   "metadata": {},
   "outputs": [],
   "source": [
    "import numpy as np\n",
    "\n",
    "\n",
    "def read_and_parse_file(filename):\n",
    "    with open(filename) as f:\n",
    "        contents = f.read()\n",
    "\n",
    "    return [\n",
    "        [int(calorie) for calorie in elf.split(\"\\n\")] for elf in contents.split(\"\\n\\n\")\n",
    "    ]"
   ]
  },
  {
   "cell_type": "code",
   "execution_count": 3,
   "id": "23bf82d8",
   "metadata": {},
   "outputs": [],
   "source": [
    "calories_per_elf = read_and_parse_file(\"inputs/task1_input.txt\")\n",
    "elf_total_calories = [sum(calories) for calories in calories_per_elf]"
   ]
  },
  {
   "cell_type": "code",
   "execution_count": 4,
   "id": "83b4468e",
   "metadata": {},
   "outputs": [
    {
     "name": "stdout",
     "output_type": "stream",
     "text": [
      "75622\n"
     ]
    }
   ],
   "source": [
    "print(max(elf_total_calories))"
   ]
  },
  {
   "cell_type": "code",
   "execution_count": 5,
   "id": "55a10b83",
   "metadata": {},
   "outputs": [
    {
     "name": "stdout",
     "output_type": "stream",
     "text": [
      "213159\n"
     ]
    }
   ],
   "source": [
    "print(sum(np.sort(elf_total_calories)[-3:]))"
   ]
  }
 ],
 "metadata": {
  "kernelspec": {
   "display_name": "Python 3 (ipykernel)",
   "language": "python",
   "name": "python3"
  },
  "language_info": {
   "codemirror_mode": {
    "name": "ipython",
    "version": 3
   },
   "file_extension": ".py",
   "mimetype": "text/x-python",
   "name": "python",
   "nbconvert_exporter": "python",
   "pygments_lexer": "ipython3",
   "version": "3.10.8"
  }
 },
 "nbformat": 4,
 "nbformat_minor": 5
}
