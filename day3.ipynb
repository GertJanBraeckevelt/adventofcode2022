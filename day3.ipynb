{
 "cells": [
  {
   "cell_type": "code",
   "execution_count": null,
   "id": "ce12f091",
   "metadata": {},
   "outputs": [],
   "source": [
    "from aocd import get_data\n",
    "lines = get_data(year=2022, day=3).split(\"\\n\")"
   ]
  },
  {
   "cell_type": "code",
   "execution_count": null,
   "id": "5fc1fe07",
   "metadata": {},
   "outputs": [],
   "source": [
    "import string\n",
    "\n",
    "def split_in_half(line):\n",
    "    brk = int(0.5*len(line))\n",
    "    return line[:brk], line[brk:]\n",
    "\n",
    "def group_by_n(lines, n=3):\n",
    "    return [lines[i:i+n] for i in range(0, len(lines), n)]\n",
    "\n",
    "def get_common_value(line):\n",
    "    first_half, second_half = split_in_half(line)\n",
    "    common = list(set(first_half).intersection(second_half))\n",
    "    \n",
    "    assert len(common) == 1, len(common)\n",
    "    return common[0]\n",
    "\n",
    "def get_common_values_in_three(line):\n",
    "    common = list(set(line[0]).intersection(line[1]).intersection(line[2]))\n",
    "    assert len(common) == 1\n",
    "    return common[0]\n",
    "\n",
    "\n",
    "def get_priority(letter):\n",
    "    isupper = letter.isupper()\n",
    "    return list(string.ascii_lowercase).index(letter.lower()) + 1 + 26*int(isupper)"
   ]
  },
  {
   "cell_type": "code",
   "execution_count": null,
   "id": "08d9a5e0",
   "metadata": {},
   "outputs": [],
   "source": [
    "sum([get_priority(get_common_value(line)) for line in lines])"
   ]
  },
  {
   "cell_type": "code",
   "execution_count": null,
   "id": "a3ca22c2",
   "metadata": {},
   "outputs": [],
   "source": [
    "lines_grouped = group_by_n(lines)\n",
    "print(lines_grouped[0])\n",
    "sum([get_priority(get_common_values_in_three(line)) for line in lines_grouped])"
   ]
  }
 ],
 "metadata": {
  "kernelspec": {
   "display_name": "Python 3 (ipykernel)",
   "language": "python",
   "name": "python3"
  },
  "language_info": {
   "codemirror_mode": {
    "name": "ipython",
    "version": 3
   },
   "file_extension": ".py",
   "mimetype": "text/x-python",
   "name": "python",
   "nbconvert_exporter": "python",
   "pygments_lexer": "ipython3",
   "version": "3.10.8"
  }
 },
 "nbformat": 4,
 "nbformat_minor": 5
}
