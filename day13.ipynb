{
 "cells": [
  {
   "cell_type": "code",
   "execution_count": null,
   "id": "8d005186",
   "metadata": {},
   "outputs": [],
   "source": [
    "with open(\"day13.txt\", \"r\") as f:\n",
    "    data = f.read()"
   ]
  },
  {
   "cell_type": "code",
   "execution_count": null,
   "id": "694bb604",
   "metadata": {},
   "outputs": [],
   "source": [
    "def compare_packets(left, right):\n",
    "    if type(left) == type(right) == int:\n",
    "        if left < right:\n",
    "            return True\n",
    "        elif right < left:\n",
    "            return False\n",
    "    elif type(left) == type(right) == list:\n",
    "        for left_val, right_val in zip(left, right):\n",
    "            comparison = compare_packets(left_val,right_val)\n",
    "            if comparison is not None:\n",
    "                return comparison\n",
    "        comparison = compare_packets(len(left), len(right))\n",
    "        if comparison is not None:\n",
    "            return comparison\n",
    "    elif (type(left) == int) and (type(right) == list):\n",
    "        comparison = compare_packets([left], right)\n",
    "        if comparison is not None:\n",
    "            return comparison\n",
    "    elif (type(right) == int) and (type(left) == list):\n",
    "        comparison = compare_packets(left, [right])\n",
    "        if comparison is not None:\n",
    "            return comparison\n",
    "        \n",
    "class Packet:\n",
    "    def __init__(self, val):\n",
    "        self.val = val\n",
    "    \n",
    "    def __gt__(self, other):\n",
    "        return compare_packets(self.val, other.val) == True\n",
    "    \n",
    "    def __repr__(self):\n",
    "        return str(self.val)\n",
    "    \n",
    "    def __eq__(self, other):\n",
    "        return self.val == other.val\n",
    "        \n",
    "    \n",
    "        \n",
    "        \n",
    "        \n",
    "\n",
    "    \n"
   ]
  },
  {
   "cell_type": "code",
   "execution_count": null,
   "id": "ba2f1ea6",
   "metadata": {},
   "outputs": [],
   "source": [
    "pairs = [[Packet(eval(packet)) for packet in pair.split(\"\\n\")] for pair in data.split(\"\\n\\n\")]\n",
    "result = 0\n",
    "for i, (left,right) in enumerate(pairs):\n",
    "    if (left > right):\n",
    "        result += i+1\n",
    "        \n",
    "result"
   ]
  },
  {
   "cell_type": "code",
   "execution_count": null,
   "id": "df8e400d",
   "metadata": {},
   "outputs": [],
   "source": [
    "packets = [Packet(eval(packet)) for packet in data.replace(\"\\n\\n\", \"\\n\").split(\"\\n\")] + [Packet([[2]]), Packet([[6]])]\n",
    "packets = sorted(packets, reverse=True)\n",
    "first_divider = packets.index(Packet([[2]])) + 1\n",
    "second_divider = packets.index(Packet([[6]])) + 1\n",
    "first_divider * second_divider"
   ]
  }
 ],
 "metadata": {
  "kernelspec": {
   "display_name": "Python 3 (ipykernel)",
   "language": "python",
   "name": "python3"
  },
  "language_info": {
   "codemirror_mode": {
    "name": "ipython",
    "version": 3
   },
   "file_extension": ".py",
   "mimetype": "text/x-python",
   "name": "python",
   "nbconvert_exporter": "python",
   "pygments_lexer": "ipython3",
   "version": "3.10.8"
  }
 },
 "nbformat": 4,
 "nbformat_minor": 5
}
