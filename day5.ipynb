{
 "cells": [
  {
   "cell_type": "code",
   "execution_count": null,
   "id": "9bd500e2",
   "metadata": {},
   "outputs": [],
   "source": [
    "from textwrap import wrap\n",
    "from aocd import get_data\n",
    "\n",
    "\n",
    "def parse_data(data):\n",
    "    splitted = data.split(\"\\n\\n\")\n",
    "    crates_part = splitted[0]\n",
    "    instructions = splitted[1]\n",
    "    \n",
    "    return crates\n",
    "\n",
    "def get_letters(level, num_positions):\n",
    "    return [level[1+4*i] for i in range(num_positions)]\n",
    "\n",
    "def parse_raw_data(raw_data):\n",
    "    splitted = raw_data.split(\"\\n\\n\")\n",
    "    instructions = splitted[1]\n",
    "    \n",
    "    positions_part = splitted[0].split(\"\\n\")[-1]\n",
    "    num_positions = max([int(pos) for pos in positions_part.strip().split(\"   \")])\n",
    "    levels = [get_letters(level, num_positions) for level in splitted[0].split(\"\\n\")[:-1]]\n",
    "    stacks = [list(l)[::-1] for l in zip(*levels)]\n",
    "    stacks = [[entry for entry in stack if entry != ' '] for stack in stacks]\n",
    "    \n",
    "    instructions = instructions.split(\"\\n\")\n",
    "    instructions = [inst.split(\" \") for inst in instructions]\n",
    "    instructions = [[int(inst[1]), int(inst[3]), int(inst[5])] for inst in instructions]\n",
    "    \n",
    "    return stacks, instructions\n",
    "\n",
    "def do_instruction(stacks, inst):\n",
    "    for i in range(inst[0]):\n",
    "        stacks[inst[2]-1] += stacks[inst[1]-1].pop(-1)\n",
    "        \n",
    "def do_instruction_all_at_once(stacks, inst):\n",
    "    stacks[inst[2]-1] += stacks[inst[1]-1][-inst[0]:]\n",
    "    del stacks[inst[1]-1][-inst[0]:]\n",
    "        \n",
    "def get_result(stacks):\n",
    "    return \"\".join([stack[-1] for stack in stacks])\n",
    "    \n",
    "    \n",
    "with open(\"day5.txt\", \"r\") as f:\n",
    "    data = f.read()"
   ]
  },
  {
   "cell_type": "code",
   "execution_count": null,
   "id": "c596cc35",
   "metadata": {},
   "outputs": [],
   "source": [
    "stacks, instructions = parse_raw_data(data)\n",
    "\n",
    "for instruction in instructions:\n",
    "    do_instruction(stacks, instruction)\n",
    "    \n",
    "get_result(stacks)"
   ]
  },
  {
   "cell_type": "code",
   "execution_count": null,
   "id": "60a9abe2",
   "metadata": {},
   "outputs": [],
   "source": [
    "stacks, instructions = parse_raw_data(data)\n",
    "\n",
    "for instruction in instructions:\n",
    "    do_instruction_all_at_once(stacks, instruction)\n",
    "    \n",
    "get_result(stacks)\n"
   ]
  },
  {
   "cell_type": "code",
   "execution_count": null,
   "id": "23740d87",
   "metadata": {},
   "outputs": [],
   "source": [
    "get_result(stacks)"
   ]
  },
  {
   "cell_type": "code",
   "execution_count": null,
   "id": "8d990b41",
   "metadata": {},
   "outputs": [],
   "source": [
    "for l in zip(*levels):\n",
    "    print(list(l)[::-1])"
   ]
  },
  {
   "cell_type": "code",
   "execution_count": null,
   "id": "d56dc386",
   "metadata": {},
   "outputs": [],
   "source": [
    "wrap(crates_part.split(\"\\n\")[:-1][0], 4, drop_whitespace=False, replace_whitespace=False)"
   ]
  },
  {
   "cell_type": "code",
   "execution_count": null,
   "id": "51744a71",
   "metadata": {},
   "outputs": [],
   "source": []
  },
  {
   "cell_type": "code",
   "execution_count": null,
   "id": "99441c38",
   "metadata": {},
   "outputs": [],
   "source": []
  }
 ],
 "metadata": {
  "kernelspec": {
   "display_name": "Python 3 (ipykernel)",
   "language": "python",
   "name": "python3"
  },
  "language_info": {
   "codemirror_mode": {
    "name": "ipython",
    "version": 3
   },
   "file_extension": ".py",
   "mimetype": "text/x-python",
   "name": "python",
   "nbconvert_exporter": "python",
   "pygments_lexer": "ipython3",
   "version": "3.10.8"
  }
 },
 "nbformat": 4,
 "nbformat_minor": 5
}
