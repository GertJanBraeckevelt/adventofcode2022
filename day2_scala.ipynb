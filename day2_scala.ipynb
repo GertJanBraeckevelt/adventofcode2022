{
 "cells": [
  {
   "cell_type": "code",
   "execution_count": null,
   "id": "07d5dd75",
   "metadata": {},
   "outputs": [],
   "source": [
    "import scala.io.Source\n",
    "\n",
    "val data = Source.fromFile(\"day2.txt\").getLines().toArray.map(x => x.split(\" \"))"
   ]
  },
  {
   "cell_type": "code",
   "execution_count": null,
   "id": "f0aa30c2",
   "metadata": {},
   "outputs": [],
   "source": [
    "val indexOf = Map(\n",
    "    \"A\" -> 0,\n",
    "    \"B\" -> 1,\n",
    "    \"C\" -> 2,\n",
    "    \"X\" -> 0,\n",
    "    \"Y\" -> 1,\n",
    "    \"Z\" -> 2\n",
    ")\n",
    "\n",
    "val choices = Seq(\"A\", \"B\", \"C\")\n",
    "\n",
    "def score(opponent: String, you: String): Int = {\n",
    "    val opponentIndex = indexOf(opponent)\n",
    "    val youIndex = indexOf(you)\n",
    "    val modulo = math.floorMod(youIndex-opponentIndex, 3)\n",
    "    val scoreOutcome = modulo match {\n",
    "        case 0 => 3\n",
    "        case 1 => 6\n",
    "        case 2 => 0\n",
    "    }\n",
    "    val scorePlay = youIndex + 1\n",
    "    scoreOutcome + scorePlay\n",
    "}\n",
    "\n",
    "def translatePart1toPart2(opponent: String, outcome: String): String = {\n",
    "    val indexModifier = outcome match {\n",
    "        case \"X\" => -1\n",
    "        case \"Y\" => 0\n",
    "        case \"Z\" => +1\n",
    "    }\n",
    "    val playIndex = math.floorMod(indexOf(opponent) + indexModifier, 3)\n",
    "    choices(playIndex)\n",
    "}"
   ]
  },
  {
   "cell_type": "code",
   "execution_count": null,
   "id": "834b9d27",
   "metadata": {},
   "outputs": [],
   "source": [
    "data.map(x => score(x(0), x(1))).sum"
   ]
  },
  {
   "cell_type": "code",
   "execution_count": null,
   "id": "32b49ba6",
   "metadata": {},
   "outputs": [],
   "source": [
    "data.map(round => Array(round(0), translatePart1toPart2(round(0), round(1)))).map(x => score(x(0), x(1))).sum"
   ]
  }
 ],
 "metadata": {
  "kernelspec": {
   "display_name": "Scala",
   "language": "scala",
   "name": "scala"
  },
  "language_info": {
   "codemirror_mode": "text/x-scala",
   "file_extension": ".sc",
   "mimetype": "text/x-scala",
   "name": "scala",
   "nbconvert_exporter": "script",
   "version": "2.13.10"
  }
 },
 "nbformat": 4,
 "nbformat_minor": 5
}
