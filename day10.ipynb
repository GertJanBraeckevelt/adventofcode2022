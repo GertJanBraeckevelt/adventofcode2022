{
 "cells": [
  {
   "cell_type": "code",
   "execution_count": null,
   "id": "874a3b8f",
   "metadata": {},
   "outputs": [],
   "source": [
    "from dataclasses import dataclass\n",
    "import jupyter_black\n",
    "jupyter_black.load(lab=False)\n",
    "\n",
    "\n",
    "\n",
    "with open(\"day10.txt\", \"r\") as f:\n",
    "    data = f.read()"
   ]
  },
  {
   "cell_type": "code",
   "execution_count": null,
   "id": "fd6b2967",
   "metadata": {},
   "outputs": [],
   "source": [
    "@dataclass\n",
    "class Instruction:\n",
    "    descr: str\n",
    "    amount_to_add: int\n",
    "    cycles_needed: int\n",
    "\n",
    "\n",
    "class Computer:\n",
    "    def __init__(self):\n",
    "        self.cycles = 1\n",
    "        self.current_instruction = None\n",
    "        self.x = 1\n",
    "\n",
    "    def set_instruction(self, descr):\n",
    "        if descr == \"noop\":\n",
    "            self.current_instruction = Instruction(descr, 0, 1)\n",
    "        elif descr.startswith(\"addx\"):\n",
    "            _, amount_to_add = descr.split(\" \")\n",
    "            self.current_instruction = Instruction(descr, int(amount_to_add), 2)\n",
    "        else:\n",
    "            print(\"couldn't interpret instruction\")\n",
    "\n",
    "    def cycle(self):\n",
    "        assert self.current_instruction\n",
    "        self.cycles += 1\n",
    "        self.current_instruction.cycles_needed -= 1\n",
    "        if self.current_instruction.cycles_needed == 0:\n",
    "            self.x += self.current_instruction.amount_to_add\n",
    "            self.current_instruction = None\n",
    "\n",
    "    def draw(self):\n",
    "        return \"#\" if abs((self.cycles - 1) % 40 - self.x) <= 1 else \".\""
   ]
  },
  {
   "cell_type": "code",
   "execution_count": null,
   "id": "7b8be619",
   "metadata": {},
   "outputs": [],
   "source": [
    "computer = Computer()\n",
    "instructions = data.split(\"\\n\")\n",
    "result = 0\n",
    "\n",
    "\n",
    "while instructions:\n",
    "    if not computer.current_instruction:\n",
    "        computer.set_instruction(instructions.pop(0))\n",
    "    computer.cycle()\n",
    "    if computer.cycles % 40 == 20:\n",
    "        print(f\"cycle: {computer.cycles}\")\n",
    "        print(computer.x)\n",
    "        result += computer.cycles * computer.x\n",
    "\n",
    "result"
   ]
  },
  {
   "cell_type": "code",
   "execution_count": null,
   "id": "541d5409",
   "metadata": {},
   "outputs": [],
   "source": [
    "computer = Computer()\n",
    "instructions = data.split(\"\\n\")\n",
    "output = \"\"\n",
    "\n",
    "\n",
    "while instructions:\n",
    "    if not computer.current_instruction:\n",
    "        computer.set_instruction(instructions.pop(0))\n",
    "    output += computer.draw()\n",
    "    computer.cycle()\n",
    "    if computer.cycles % 40 == 1:\n",
    "        output += \"\\n\"\n",
    "\n",
    "\n",
    "print(output)"
   ]
  }
 ],
 "metadata": {
  "kernelspec": {
   "display_name": "Python 3 (ipykernel)",
   "language": "python",
   "name": "python3"
  },
  "language_info": {
   "codemirror_mode": {
    "name": "ipython",
    "version": 3
   },
   "file_extension": ".py",
   "mimetype": "text/x-python",
   "name": "python",
   "nbconvert_exporter": "python",
   "pygments_lexer": "ipython3",
   "version": "3.10.8"
  }
 },
 "nbformat": 4,
 "nbformat_minor": 5
}
